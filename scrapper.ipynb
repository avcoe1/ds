{
 "cells": [
  {
   "cell_type": "code",
   "execution_count": 10,
   "id": "46ea11c4",
   "metadata": {},
   "outputs": [],
   "source": [
    "import requests\n",
    "import bs4"
   ]
  },
  {
   "cell_type": "code",
   "execution_count": 4,
   "id": "ce1266b6",
   "metadata": {},
   "outputs": [
    {
     "data": {
      "text/plain": [
       "<Response [200]>"
      ]
     },
     "execution_count": 4,
     "metadata": {},
     "output_type": "execute_result"
    }
   ],
   "source": [
    "request1= requests.get('https://www.flipkart.com/poco-m6-pro-5g-forest-green-128-gb/p/itm151f47ed48eee?pid=MOBGRNZ3FZBVRYHQ&lid=LSTMOBGRNZ3FZBVRYHQLWWUJH&marketplace=FLIPKART&store=tyy%2F4io&spotlightTagId=BestsellerId_tyy%2F4io&srno=b_1_1&otracker=browse&fm=organic&iid=9795cf12-c08d-4fc7-be65-b90d835b532f.MOBGRNZ3FZBVRYHQ.SEARCH&ppt=browse&ppn=browse&ssid=t0ux1p45i80000001715145421877') \n",
    "request1\n",
    "\n"
   ]
  },
  {
   "cell_type": "code",
   "execution_count": null,
   "id": "1f06c662",
   "metadata": {},
   "outputs": [],
   "source": [
    "request1.content"
   ]
  },
  {
   "cell_type": "code",
   "execution_count": 11,
   "id": "467f13af",
   "metadata": {},
   "outputs": [],
   "source": [
    "soup= bs4.BeautifulSoup(request1.text)"
   ]
  },
  {
   "cell_type": "code",
   "execution_count": 14,
   "id": "5b250397",
   "metadata": {},
   "outputs": [
    {
     "name": "stdout",
     "output_type": "stream",
     "text": [
      "Best value for money.Based on pricePerformance -5/5Back Camera-3/5Front camera-2.5/5Battery -4.5/5Charging-3/5Display-4.5/5Software-2/5( bloatware)Speed-4/5Design-4/5READ MORE\n",
      "\n",
      "\n",
      "To Good Design and Performance , but Charging timing Little slowREAD MORE\n",
      "\n",
      "\n",
      "Best mobile at this price range 👍🏻READ MORE\n",
      "\n",
      "\n",
      "Good one go for it camera is good..READ MORE\n",
      "\n",
      "\n",
      "Best phone in this price rangeREAD MORE\n",
      "\n",
      "\n",
      "Good mobile 5g this range and good workingREAD MORE\n",
      "\n",
      "\n",
      "Most Stylish Mobile from POCO.Performance is Great Camera is descent its ok,Mobile display Colour is average but still the build quality is Impressed me.😉🤗💥READ MORE\n",
      "\n",
      "\n",
      "AmazingREAD MORE\n",
      "\n",
      "\n",
      "Thank you Flipkart this item is very nice 💯READ MORE\n",
      "\n",
      "\n",
      "If you want a camera phone then don't buy it, it's only a budget 5g phone for daily uses. 🙂READ MORE\n",
      "\n",
      "\n"
     ]
    }
   ],
   "source": [
    "reviews=soup.findAll('div',{'class' : 'ZmyHeo'});\n",
    "for review in reviews:\n",
    "    print(review.get_text()+\"\\n\\n\")"
   ]
  },
  {
   "cell_type": "code",
   "execution_count": 22,
   "id": "84927a6e",
   "metadata": {},
   "outputs": [
    {
     "name": "stdout",
     "output_type": "stream",
     "text": [
      "5\n",
      "\n",
      "\n",
      "4\n",
      "\n",
      "\n",
      "4\n",
      "\n",
      "\n",
      "4\n",
      "\n",
      "\n",
      "4\n",
      "\n",
      "\n",
      "5\n",
      "\n",
      "\n",
      "5\n",
      "\n",
      "\n",
      "5\n",
      "\n",
      "\n",
      "5\n",
      "\n",
      "\n",
      "4\n",
      "\n",
      "\n"
     ]
    }
   ],
   "source": [
    "ratings=soup.findAll('div',{'class' : 'XQDdHH Ga3i8K'});\n",
    "for rating in ratings:\n",
    "    print(rating.get_text()+\"\\n\\n\")"
   ]
  },
  {
   "cell_type": "code",
   "execution_count": 29,
   "id": "f424b3dc",
   "metadata": {},
   "outputs": [
    {
     "name": "stdout",
     "output_type": "stream",
     "text": [
      "AQEEL SHAIK\n",
      "\n",
      "\n",
      "Rajkumar  Thakur\n",
      "\n",
      "\n",
      "Siddhant  Dhanwate\n",
      "\n",
      "\n",
      "PRADEEP  D C \n",
      "\n",
      "\n",
      "Sunil Suthar\n",
      "\n",
      "\n",
      "Javed Alam\n",
      "\n",
      "\n",
      "Tamilselvan G\n",
      "\n",
      "\n",
      "Sachin Shinde\n",
      "\n",
      "\n",
      "Washim Shaikh\n",
      "\n",
      "\n",
      "Ankit Agrahari\n",
      "\n",
      "\n"
     ]
    }
   ],
   "source": [
    "cust_names=soup.findAll('p',{'class' : '_2NsDsF AwS1CA'});\n",
    "for cust_name in cust_names:\n",
    "    print(cust_name.get_text()+\"\\n\\n\")"
   ]
  },
  {
   "cell_type": "code",
   "execution_count": null,
   "id": "1fddb063",
   "metadata": {},
   "outputs": [],
   "source": []
  }
 ],
 "metadata": {
  "kernelspec": {
   "display_name": "Python 3 (ipykernel)",
   "language": "python",
   "name": "python3"
  },
  "language_info": {
   "codemirror_mode": {
    "name": "ipython",
    "version": 3
   },
   "file_extension": ".py",
   "mimetype": "text/x-python",
   "name": "python",
   "nbconvert_exporter": "python",
   "pygments_lexer": "ipython3",
   "version": "3.7.8"
  }
 },
 "nbformat": 4,
 "nbformat_minor": 5
}
