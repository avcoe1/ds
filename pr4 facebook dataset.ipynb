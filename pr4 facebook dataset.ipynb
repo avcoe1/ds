{
 "cells": [
  {
   "cell_type": "code",
   "execution_count": 19,
   "id": "26e6943c",
   "metadata": {},
   "outputs": [],
   "source": [
    "import pandas as pd\n"
   ]
  },
  {
   "cell_type": "code",
   "execution_count": 14,
   "id": "6dc5a9aa",
   "metadata": {},
   "outputs": [],
   "source": [
    "data=pd.read_csv(\"C:/Users/Mayur Kotkar/Downloads/dataset_Facebook.csv\" , sep=\";\")\n"
   ]
  },
  {
   "cell_type": "code",
   "execution_count": 11,
   "id": "cfeefeb5",
   "metadata": {
    "scrolled": true
   },
   "outputs": [
    {
     "data": {
      "text/plain": [
       "(500, 19)"
      ]
     },
     "execution_count": 11,
     "metadata": {},
     "output_type": "execute_result"
    }
   ],
   "source": [
    "\n",
    "data.shape\n"
   ]
  },
  {
   "cell_type": "code",
   "execution_count": 21,
   "id": "a48b213e",
   "metadata": {},
   "outputs": [],
   "source": [
    "#subset\n",
    "d1=data[['Page total likes','Type','Category','Post Month']].loc[0:15]\n",
    "d2=data[['Page total likes','Type','Category','Post Month']].loc[16:30]\n",
    "d3=data[['Page total likes','Type','Category','Post Month']].loc[31:50]"
   ]
  },
  {
   "cell_type": "code",
   "execution_count": 24,
   "id": "5bcf9b06",
   "metadata": {},
   "outputs": [],
   "source": [
    "#merging\n",
    "\n",
    "merge=pd.concat([d1,d2,d3])\n"
   ]
  },
  {
   "cell_type": "code",
   "execution_count": 27,
   "id": "e6564f87",
   "metadata": {
    "scrolled": true
   },
   "outputs": [],
   "source": [
    "#transpose\n",
    "transpose=data.transpose()"
   ]
  },
  {
   "cell_type": "code",
   "execution_count": 29,
   "id": "c13235ed",
   "metadata": {},
   "outputs": [],
   "source": [
    "#shape\n",
    "shape =data.shape"
   ]
  },
  {
   "cell_type": "code",
   "execution_count": 34,
   "id": "44eef80d",
   "metadata": {},
   "outputs": [
    {
     "data": {
      "text/html": [
       "<div>\n",
       "<style scoped>\n",
       "    .dataframe tbody tr th:only-of-type {\n",
       "        vertical-align: middle;\n",
       "    }\n",
       "\n",
       "    .dataframe tbody tr th {\n",
       "        vertical-align: top;\n",
       "    }\n",
       "\n",
       "    .dataframe thead th {\n",
       "        text-align: right;\n",
       "    }\n",
       "</style>\n",
       "<table border=\"1\" class=\"dataframe\">\n",
       "  <thead>\n",
       "    <tr style=\"text-align: right;\">\n",
       "      <th></th>\n",
       "      <th></th>\n",
       "      <th>like</th>\n",
       "    </tr>\n",
       "    <tr>\n",
       "      <th>Type</th>\n",
       "      <th>Category</th>\n",
       "      <th></th>\n",
       "    </tr>\n",
       "  </thead>\n",
       "  <tbody>\n",
       "    <tr>\n",
       "      <th rowspan=\"3\" valign=\"top\">Link</th>\n",
       "      <th>1</th>\n",
       "      <td>75.650000</td>\n",
       "    </tr>\n",
       "    <tr>\n",
       "      <th>2</th>\n",
       "      <td>32.000000</td>\n",
       "    </tr>\n",
       "    <tr>\n",
       "      <th>3</th>\n",
       "      <td>68.000000</td>\n",
       "    </tr>\n",
       "    <tr>\n",
       "      <th rowspan=\"3\" valign=\"top\">Photo</th>\n",
       "      <th>1</th>\n",
       "      <td>126.000000</td>\n",
       "    </tr>\n",
       "    <tr>\n",
       "      <th>2</th>\n",
       "      <td>235.857143</td>\n",
       "    </tr>\n",
       "    <tr>\n",
       "      <th>3</th>\n",
       "      <td>219.753333</td>\n",
       "    </tr>\n",
       "    <tr>\n",
       "      <th rowspan=\"3\" valign=\"top\">Status</th>\n",
       "      <th>1</th>\n",
       "      <td>136.333333</td>\n",
       "    </tr>\n",
       "    <tr>\n",
       "      <th>2</th>\n",
       "      <td>182.552632</td>\n",
       "    </tr>\n",
       "    <tr>\n",
       "      <th>3</th>\n",
       "      <td>151.500000</td>\n",
       "    </tr>\n",
       "    <tr>\n",
       "      <th>Video</th>\n",
       "      <th>1</th>\n",
       "      <td>231.428571</td>\n",
       "    </tr>\n",
       "  </tbody>\n",
       "</table>\n",
       "</div>"
      ],
      "text/plain": [
       "                       like\n",
       "Type   Category            \n",
       "Link   1          75.650000\n",
       "       2          32.000000\n",
       "       3          68.000000\n",
       "Photo  1         126.000000\n",
       "       2         235.857143\n",
       "       3         219.753333\n",
       "Status 1         136.333333\n",
       "       2         182.552632\n",
       "       3         151.500000\n",
       "Video  1         231.428571"
      ]
     },
     "execution_count": 34,
     "metadata": {},
     "output_type": "execute_result"
    }
   ],
   "source": [
    "#reshape\n",
    "reshape=pd.pivot_table(data,index=['Type','Category'],values='like')\n",
    "reshape\n"
   ]
  },
  {
   "cell_type": "code",
   "execution_count": null,
   "id": "80596fcc",
   "metadata": {},
   "outputs": [],
   "source": []
  }
 ],
 "metadata": {
  "kernelspec": {
   "display_name": "Python 3 (ipykernel)",
   "language": "python",
   "name": "python3"
  },
  "language_info": {
   "codemirror_mode": {
    "name": "ipython",
    "version": 3
   },
   "file_extension": ".py",
   "mimetype": "text/x-python",
   "name": "python",
   "nbconvert_exporter": "python",
   "pygments_lexer": "ipython3",
   "version": "3.7.8"
  }
 },
 "nbformat": 4,
 "nbformat_minor": 5
}
